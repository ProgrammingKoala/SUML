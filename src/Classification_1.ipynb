{
 "cells": [
  {
   "cell_type": "code",
   "execution_count": 2,
   "id": "5e5e7b09-e07b-456c-b019-69263b9a9471",
   "metadata": {},
   "outputs": [],
   "source": [
    "import time\n",
    "from pathlib import Path\n",
    "import pandas as pd\n",
    "import numpy as np\n",
    "import matplotlib.pyplot as plt\n",
    "%matplotlib inline"
   ]
  },
  {
   "cell_type": "code",
   "execution_count": 3,
   "id": "13a5331e-e1ea-41da-852e-007ee2a77e7d",
   "metadata": {},
   "outputs": [
    {
     "name": "stdout",
     "output_type": "stream",
     "text": [
      "(26709, 3)\n"
     ]
    }
   ],
   "source": [
    "path_data = Path().resolve().parent / \"testdata\" / \"sarcasm.json\"\n",
    "df = pd.read_json(path_data, lines=True)\n",
    "df.head()\n",
    "print(df.shape)"
   ]
  },
  {
   "cell_type": "code",
   "execution_count": 4,
   "id": "c6a2565d-e6c1-4b43-8825-59823172f906",
   "metadata": {},
   "outputs": [
    {
     "name": "stdout",
     "output_type": "stream",
     "text": [
      "(1000, 2)\n"
     ]
    }
   ],
   "source": [
    "df.drop(df.index[1000:],inplace=True)\n",
    "df.drop([\"article_link\"],axis=1,inplace=True)\n",
    "df.head()\n",
    "print(df.shape)"
   ]
  },
  {
   "cell_type": "code",
   "execution_count": 5,
   "id": "ede2e611-2dff-4d39-ac08-216c61a1870e",
   "metadata": {},
   "outputs": [
    {
     "data": {
      "image/png": "[encoded data removed]",
      "text/plain": [
       "<Figure size 640x480 with 1 Axes>"
      ]
     },
     "metadata": {},
     "output_type": "display_data"
    }
   ],
   "source": [
    "plt.hist(df[\"is_sarcastic\"])\n",
    "plt.show()"
   ]
  },
  {
   "cell_type": "code",
   "execution_count": 6,
   "id": "a3d9e347-c114-4d1f-8e39-178264b05c92",
   "metadata": {},
   "outputs": [],
   "source": [
    "from sklearn.feature_extraction.text import CountVectorizer"
   ]
  },
  {
   "cell_type": "code",
   "execution_count": 7,
   "id": "d04a94d7-8fd2-45c6-baf3-b95a91564013",
   "metadata": {},
   "outputs": [
    {
     "name": "stdout",
     "output_type": "stream",
     "text": [
      "   is_sarcastic  000  000th  10  100  10th  11  113  118  12  ...  young  \\\n",
      "0             0    0      0   0    0     0   0    0    0   0  ...      0   \n",
      "1             0    0      0   0    0     0   0    0    0   0  ...      0   \n",
      "2             1    0      0   0    0     0   0    0    0   0  ...      0   \n",
      "3             1    0      0   0    0     0   0    0    0   0  ...      0   \n",
      "4             0    0      0   0    0     0   0    0    0   0  ...      0   \n",
      "\n",
      "   younger  your  youth  youths  youtube  zany  zen  zone  zuckerberg  \n",
      "0        0     0      0       0        0     0    0     0           0  \n",
      "1        0     0      0       0        0     0    0     0           0  \n",
      "2        0     0      0       0        0     0    0     0           0  \n",
      "3        0     0      0       0        0     0    0     0           0  \n",
      "4        0     0      0       0        0     0    0     0           0  \n",
      "\n",
      "[5 rows x 4172 columns]\n",
      "(1000, 4172)\n"
     ]
    }
   ],
   "source": [
    "cv = CountVectorizer()\n",
    "#x = np.array(data[\"headline\"])\n",
    "X = cv.fit_transform(df[\"headline\"])\n",
    "df_headline = pd.DataFrame(X.todense(),columns=cv.get_feature_names_out())\n",
    "df = pd.concat([df.drop([\"headline\"],axis=1),df_headline],axis=1)\n",
    "print(df.head())\n",
    "print(df.shape)"
   ]
  },
  {
   "cell_type": "code",
   "execution_count": 8,
   "id": "591eec91-0b79-4e31-b7f8-ba431d3d4e1d",
   "metadata": {
    "scrolled": true
   },
   "outputs": [
    {
     "data": {
      "text/html": [
       "<div>\n",
       "<style scoped>\n",
       "    .dataframe tbody tr th:only-of-type {\n",
       "        vertical-align: middle;\n",
       "    }\n",
       "\n",
       "    .dataframe tbody tr th {\n",
       "        vertical-align: top;\n",
       "    }\n",
       "\n",
       "    .dataframe thead th {\n",
       "        text-align: right;\n",
       "    }\n",
       "</style>\n",
       "<table border=\"1\" class=\"dataframe\">\n",
       "  <thead>\n",
       "    <tr style=\"text-align: right;\">\n",
       "      <th></th>\n",
       "      <th>is_sarcastic</th>\n",
       "      <th>000</th>\n",
       "      <th>000th</th>\n",
       "      <th>10</th>\n",
       "      <th>100</th>\n",
       "      <th>10th</th>\n",
       "      <th>11</th>\n",
       "      <th>113</th>\n",
       "      <th>118</th>\n",
       "      <th>12</th>\n",
       "      <th>...</th>\n",
       "      <th>young</th>\n",
       "      <th>younger</th>\n",
       "      <th>your</th>\n",
       "      <th>youth</th>\n",
       "      <th>youths</th>\n",
       "      <th>youtube</th>\n",
       "      <th>zany</th>\n",
       "      <th>zen</th>\n",
       "      <th>zone</th>\n",
       "      <th>zuckerberg</th>\n",
       "    </tr>\n",
       "  </thead>\n",
       "  <tbody>\n",
       "    <tr>\n",
       "      <th>0</th>\n",
       "      <td>False</td>\n",
       "      <td>False</td>\n",
       "      <td>False</td>\n",
       "      <td>False</td>\n",
       "      <td>False</td>\n",
       "      <td>False</td>\n",
       "      <td>False</td>\n",
       "      <td>False</td>\n",
       "      <td>False</td>\n",
       "      <td>False</td>\n",
       "      <td>...</td>\n",
       "      <td>False</td>\n",
       "      <td>False</td>\n",
       "      <td>False</td>\n",
       "      <td>False</td>\n",
       "      <td>False</td>\n",
       "      <td>False</td>\n",
       "      <td>False</td>\n",
       "      <td>False</td>\n",
       "      <td>False</td>\n",
       "      <td>False</td>\n",
       "    </tr>\n",
       "    <tr>\n",
       "      <th>1</th>\n",
       "      <td>False</td>\n",
       "      <td>False</td>\n",
       "      <td>False</td>\n",
       "      <td>False</td>\n",
       "      <td>False</td>\n",
       "      <td>False</td>\n",
       "      <td>False</td>\n",
       "      <td>False</td>\n",
       "      <td>False</td>\n",
       "      <td>False</td>\n",
       "      <td>...</td>\n",
       "      <td>False</td>\n",
       "      <td>False</td>\n",
       "      <td>False</td>\n",
       "      <td>False</td>\n",
       "      <td>False</td>\n",
       "      <td>False</td>\n",
       "      <td>False</td>\n",
       "      <td>False</td>\n",
       "      <td>False</td>\n",
       "      <td>False</td>\n",
       "    </tr>\n",
       "    <tr>\n",
       "      <th>2</th>\n",
       "      <td>False</td>\n",
       "      <td>False</td>\n",
       "      <td>False</td>\n",
       "      <td>False</td>\n",
       "      <td>False</td>\n",
       "      <td>False</td>\n",
       "      <td>False</td>\n",
       "      <td>False</td>\n",
       "      <td>False</td>\n",
       "      <td>False</td>\n",
       "      <td>...</td>\n",
       "      <td>False</td>\n",
       "      <td>False</td>\n",
       "      <td>False</td>\n",
       "      <td>False</td>\n",
       "      <td>False</td>\n",
       "      <td>False</td>\n",
       "      <td>False</td>\n",
       "      <td>False</td>\n",
       "      <td>False</td>\n",
       "      <td>False</td>\n",
       "    </tr>\n",
       "    <tr>\n",
       "      <th>3</th>\n",
       "      <td>False</td>\n",
       "      <td>False</td>\n",
       "      <td>False</td>\n",
       "      <td>False</td>\n",
       "      <td>False</td>\n",
       "      <td>False</td>\n",
       "      <td>False</td>\n",
       "      <td>False</td>\n",
       "      <td>False</td>\n",
       "      <td>False</td>\n",
       "      <td>...</td>\n",
       "      <td>False</td>\n",
       "      <td>False</td>\n",
       "      <td>False</td>\n",
       "      <td>False</td>\n",
       "      <td>False</td>\n",
       "      <td>False</td>\n",
       "      <td>False</td>\n",
       "      <td>False</td>\n",
       "      <td>False</td>\n",
       "      <td>False</td>\n",
       "    </tr>\n",
       "    <tr>\n",
       "      <th>4</th>\n",
       "      <td>False</td>\n",
       "      <td>False</td>\n",
       "      <td>False</td>\n",
       "      <td>False</td>\n",
       "      <td>False</td>\n",
       "      <td>False</td>\n",
       "      <td>False</td>\n",
       "      <td>False</td>\n",
       "      <td>False</td>\n",
       "      <td>False</td>\n",
       "      <td>...</td>\n",
       "      <td>False</td>\n",
       "      <td>False</td>\n",
       "      <td>False</td>\n",
       "      <td>False</td>\n",
       "      <td>False</td>\n",
       "      <td>False</td>\n",
       "      <td>False</td>\n",
       "      <td>False</td>\n",
       "      <td>False</td>\n",
       "      <td>False</td>\n",
       "    </tr>\n",
       "    <tr>\n",
       "      <th>...</th>\n",
       "      <td>...</td>\n",
       "      <td>...</td>\n",
       "      <td>...</td>\n",
       "      <td>...</td>\n",
       "      <td>...</td>\n",
       "      <td>...</td>\n",
       "      <td>...</td>\n",
       "      <td>...</td>\n",
       "      <td>...</td>\n",
       "      <td>...</td>\n",
       "      <td>...</td>\n",
       "      <td>...</td>\n",
       "      <td>...</td>\n",
       "      <td>...</td>\n",
       "      <td>...</td>\n",
       "      <td>...</td>\n",
       "      <td>...</td>\n",
       "      <td>...</td>\n",
       "      <td>...</td>\n",
       "      <td>...</td>\n",
       "      <td>...</td>\n",
       "    </tr>\n",
       "    <tr>\n",
       "      <th>995</th>\n",
       "      <td>False</td>\n",
       "      <td>False</td>\n",
       "      <td>False</td>\n",
       "      <td>False</td>\n",
       "      <td>False</td>\n",
       "      <td>False</td>\n",
       "      <td>False</td>\n",
       "      <td>False</td>\n",
       "      <td>False</td>\n",
       "      <td>False</td>\n",
       "      <td>...</td>\n",
       "      <td>False</td>\n",
       "      <td>False</td>\n",
       "      <td>False</td>\n",
       "      <td>False</td>\n",
       "      <td>False</td>\n",
       "      <td>False</td>\n",
       "      <td>False</td>\n",
       "      <td>False</td>\n",
       "      <td>False</td>\n",
       "      <td>False</td>\n",
       "    </tr>\n",
       "    <tr>\n",
       "      <th>996</th>\n",
       "      <td>False</td>\n",
       "      <td>False</td>\n",
       "      <td>False</td>\n",
       "      <td>False</td>\n",
       "      <td>False</td>\n",
       "      <td>False</td>\n",
       "      <td>False</td>\n",
       "      <td>False</td>\n",
       "      <td>False</td>\n",
       "      <td>False</td>\n",
       "      <td>...</td>\n",
       "      <td>False</td>\n",
       "      <td>False</td>\n",
       "      <td>False</td>\n",
       "      <td>False</td>\n",
       "      <td>False</td>\n",
       "      <td>False</td>\n",
       "      <td>False</td>\n",
       "      <td>False</td>\n",
       "      <td>False</td>\n",
       "      <td>False</td>\n",
       "    </tr>\n",
       "    <tr>\n",
       "      <th>997</th>\n",
       "      <td>False</td>\n",
       "      <td>False</td>\n",
       "      <td>False</td>\n",
       "      <td>False</td>\n",
       "      <td>False</td>\n",
       "      <td>False</td>\n",
       "      <td>False</td>\n",
       "      <td>False</td>\n",
       "      <td>False</td>\n",
       "      <td>False</td>\n",
       "      <td>...</td>\n",
       "      <td>False</td>\n",
       "      <td>False</td>\n",
       "      <td>False</td>\n",
       "      <td>False</td>\n",
       "      <td>False</td>\n",
       "      <td>False</td>\n",
       "      <td>False</td>\n",
       "      <td>False</td>\n",
       "      <td>False</td>\n",
       "      <td>False</td>\n",
       "    </tr>\n",
       "    <tr>\n",
       "      <th>998</th>\n",
       "      <td>False</td>\n",
       "      <td>False</td>\n",
       "      <td>False</td>\n",
       "      <td>False</td>\n",
       "      <td>False</td>\n",
       "      <td>False</td>\n",
       "      <td>False</td>\n",
       "      <td>False</td>\n",
       "      <td>False</td>\n",
       "      <td>False</td>\n",
       "      <td>...</td>\n",
       "      <td>False</td>\n",
       "      <td>False</td>\n",
       "      <td>False</td>\n",
       "      <td>False</td>\n",
       "      <td>False</td>\n",
       "      <td>False</td>\n",
       "      <td>False</td>\n",
       "      <td>False</td>\n",
       "      <td>False</td>\n",
       "      <td>False</td>\n",
       "    </tr>\n",
       "    <tr>\n",
       "      <th>999</th>\n",
       "      <td>False</td>\n",
       "      <td>False</td>\n",
       "      <td>False</td>\n",
       "      <td>False</td>\n",
       "      <td>False</td>\n",
       "      <td>False</td>\n",
       "      <td>False</td>\n",
       "      <td>False</td>\n",
       "      <td>False</td>\n",
       "      <td>False</td>\n",
       "      <td>...</td>\n",
       "      <td>False</td>\n",
       "      <td>False</td>\n",
       "      <td>False</td>\n",
       "      <td>False</td>\n",
       "      <td>False</td>\n",
       "      <td>False</td>\n",
       "      <td>False</td>\n",
       "      <td>False</td>\n",
       "      <td>False</td>\n",
       "      <td>False</td>\n",
       "    </tr>\n",
       "  </tbody>\n",
       "</table>\n",
       "<p>1000 rows × 4172 columns</p>\n",
       "</div>"
      ],
      "text/plain": [
       "     is_sarcastic    000  000th     10    100   10th     11    113    118  \\\n",
       "0           False  False  False  False  False  False  False  False  False   \n",
       "1           False  False  False  False  False  False  False  False  False   \n",
       "2           False  False  False  False  False  False  False  False  False   \n",
       "3           False  False  False  False  False  False  False  False  False   \n",
       "4           False  False  False  False  False  False  False  False  False   \n",
       "..            ...    ...    ...    ...    ...    ...    ...    ...    ...   \n",
       "995         False  False  False  False  False  False  False  False  False   \n",
       "996         False  False  False  False  False  False  False  False  False   \n",
       "997         False  False  False  False  False  False  False  False  False   \n",
       "998         False  False  False  False  False  False  False  False  False   \n",
       "999         False  False  False  False  False  False  False  False  False   \n",
       "\n",
       "        12  ...  young  younger   your  youth  youths  youtube   zany    zen  \\\n",
       "0    False  ...  False    False  False  False   False    False  False  False   \n",
       "1    False  ...  False    False  False  False   False    False  False  False   \n",
       "2    False  ...  False    False  False  False   False    False  False  False   \n",
       "3    False  ...  False    False  False  False   False    False  False  False   \n",
       "4    False  ...  False    False  False  False   False    False  False  False   \n",
       "..     ...  ...    ...      ...    ...    ...     ...      ...    ...    ...   \n",
       "995  False  ...  False    False  False  False   False    False  False  False   \n",
       "996  False  ...  False    False  False  False   False    False  False  False   \n",
       "997  False  ...  False    False  False  False   False    False  False  False   \n",
       "998  False  ...  False    False  False  False   False    False  False  False   \n",
       "999  False  ...  False    False  False  False   False    False  False  False   \n",
       "\n",
       "      zone  zuckerberg  \n",
       "0    False       False  \n",
       "1    False       False  \n",
       "2    False       False  \n",
       "3    False       False  \n",
       "4    False       False  \n",
       "..     ...         ...  \n",
       "995  False       False  \n",
       "996  False       False  \n",
       "997  False       False  \n",
       "998  False       False  \n",
       "999  False       False  \n",
       "\n",
       "[1000 rows x 4172 columns]"
      ]
     },
     "execution_count": 8,
     "metadata": {},
     "output_type": "execute_result"
    }
   ],
   "source": [
    "pd.isna(df)"
   ]
  },
  {
   "cell_type": "code",
   "execution_count": 9,
   "id": "e71477a9-0b88-4ed9-8371-687fe10d4e08",
   "metadata": {},
   "outputs": [
    {
     "data": {
      "text/html": [
       "<div>\n",
       "<style scoped>\n",
       "    .dataframe tbody tr th:only-of-type {\n",
       "        vertical-align: middle;\n",
       "    }\n",
       "\n",
       "    .dataframe tbody tr th {\n",
       "        vertical-align: top;\n",
       "    }\n",
       "\n",
       "    .dataframe thead th {\n",
       "        text-align: right;\n",
       "    }\n",
       "</style>\n",
       "<table border=\"1\" class=\"dataframe\">\n",
       "  <thead>\n",
       "    <tr style=\"text-align: right;\">\n",
       "      <th></th>\n",
       "      <th>is_sarcastic</th>\n",
       "      <th>000</th>\n",
       "      <th>000th</th>\n",
       "      <th>10</th>\n",
       "      <th>100</th>\n",
       "      <th>10th</th>\n",
       "      <th>11</th>\n",
       "      <th>113</th>\n",
       "      <th>118</th>\n",
       "      <th>12</th>\n",
       "      <th>...</th>\n",
       "      <th>young</th>\n",
       "      <th>younger</th>\n",
       "      <th>your</th>\n",
       "      <th>youth</th>\n",
       "      <th>youths</th>\n",
       "      <th>youtube</th>\n",
       "      <th>zany</th>\n",
       "      <th>zen</th>\n",
       "      <th>zone</th>\n",
       "      <th>zuckerberg</th>\n",
       "    </tr>\n",
       "  </thead>\n",
       "  <tbody>\n",
       "  </tbody>\n",
       "</table>\n",
       "<p>0 rows × 4172 columns</p>\n",
       "</div>"
      ],
      "text/plain": [
       "Empty DataFrame\n",
       "Columns: [is_sarcastic, 000, 000th, 10, 100, 10th, 11, 113, 118, 12, 13, 14, 14th, 15, 150, 15th, 17, 18, 19, 1939, 1940, 1981, 1989, 1997, 20, 200, 2002, 2008, 200k, 2014, 2015, 2016, 2025, 23, 250, 259, 290, 30, 30th, 35, 3822, 39, 3m, 40, 400, 41, 45, 451, 48, 50, 500, 51, 58, 60, 600, 683, 70, 70s, 70th, 74, 75, 7th, 81, 812, 839, 90, 911, 947, abandons, abortion, abortions, about, absolute, abuse, accept, accepted, accepting, accepts, accidentally, accidents, accommodate, account, accurate, accuse, accused, accuser, accusers, achievable, achieve, acknowledged, acosta, across, act, acting, action, activists, actor, actors, actually, ad, ...]\n",
       "Index: []\n",
       "\n",
       "[0 rows x 4172 columns]"
      ]
     },
     "execution_count": 9,
     "metadata": {},
     "output_type": "execute_result"
    }
   ],
   "source": [
    "df[df.isna().any(axis=1)]"
   ]
  },
  {
   "cell_type": "code",
   "execution_count": 10,
   "id": "f38b76e2-5ad7-47df-9a6d-12d6065b6c34",
   "metadata": {},
   "outputs": [
    {
     "data": {
      "text/html": [
       "<div>\n",
       "<style scoped>\n",
       "    .dataframe tbody tr th:only-of-type {\n",
       "        vertical-align: middle;\n",
       "    }\n",
       "\n",
       "    .dataframe tbody tr th {\n",
       "        vertical-align: top;\n",
       "    }\n",
       "\n",
       "    .dataframe thead th {\n",
       "        text-align: right;\n",
       "    }\n",
       "</style>\n",
       "<table border=\"1\" class=\"dataframe\">\n",
       "  <thead>\n",
       "    <tr style=\"text-align: right;\">\n",
       "      <th></th>\n",
       "      <th>is_sarcastic</th>\n",
       "      <th>000</th>\n",
       "      <th>000th</th>\n",
       "      <th>10</th>\n",
       "      <th>100</th>\n",
       "      <th>10th</th>\n",
       "      <th>11</th>\n",
       "      <th>113</th>\n",
       "      <th>118</th>\n",
       "      <th>12</th>\n",
       "      <th>...</th>\n",
       "      <th>young</th>\n",
       "      <th>younger</th>\n",
       "      <th>your</th>\n",
       "      <th>youth</th>\n",
       "      <th>youths</th>\n",
       "      <th>youtube</th>\n",
       "      <th>zany</th>\n",
       "      <th>zen</th>\n",
       "      <th>zone</th>\n",
       "      <th>zuckerberg</th>\n",
       "    </tr>\n",
       "  </thead>\n",
       "  <tbody>\n",
       "  </tbody>\n",
       "</table>\n",
       "<p>0 rows × 4172 columns</p>\n",
       "</div>"
      ],
      "text/plain": [
       "Empty DataFrame\n",
       "Columns: [is_sarcastic, 000, 000th, 10, 100, 10th, 11, 113, 118, 12, 13, 14, 14th, 15, 150, 15th, 17, 18, 19, 1939, 1940, 1981, 1989, 1997, 20, 200, 2002, 2008, 200k, 2014, 2015, 2016, 2025, 23, 250, 259, 290, 30, 30th, 35, 3822, 39, 3m, 40, 400, 41, 45, 451, 48, 50, 500, 51, 58, 60, 600, 683, 70, 70s, 70th, 74, 75, 7th, 81, 812, 839, 90, 911, 947, abandons, abortion, abortions, about, absolute, abuse, accept, accepted, accepting, accepts, accidentally, accidents, accommodate, account, accurate, accuse, accused, accuser, accusers, achievable, achieve, acknowledged, acosta, across, act, acting, action, activists, actor, actors, actually, ad, ...]\n",
       "Index: []\n",
       "\n",
       "[0 rows x 4172 columns]"
      ]
     },
     "execution_count": 10,
     "metadata": {},
     "output_type": "execute_result"
    }
   ],
   "source": [
    "df[df.isnull().any(axis=1)]"
   ]
  },
  {
   "cell_type": "code",
   "execution_count": 11,
   "id": "1d35fed4-9f29-40a8-83f4-e19dfdd65138",
   "metadata": {},
   "outputs": [
    {
     "name": "stdout",
     "output_type": "stream",
     "text": [
      "(1000, 4172)\n"
     ]
    }
   ],
   "source": [
    "dfdelete = np.array(df[df.isna().any(axis=1)].index,df[df.isnull().any(axis=1)].index)\n",
    "dfdelete = np.unique(dfdelete)\n",
    "df.drop(dfdelete,inplace=True)\n",
    "print(df.shape)"
   ]
  },
  {
   "cell_type": "code",
   "execution_count": 12,
   "id": "1eb304bc-6942-4bb9-a8a8-174a527b094e",
   "metadata": {},
   "outputs": [
    {
     "data": {
      "text/plain": [
       "0    0\n",
       "1    0\n",
       "2    1\n",
       "3    1\n",
       "4    0\n",
       "Name: is_sarcastic, dtype: int64"
      ]
     },
     "execution_count": 12,
     "metadata": {},
     "output_type": "execute_result"
    }
   ],
   "source": [
    "df[\"is_sarcastic\"].head()"
   ]
  },
  {
   "cell_type": "code",
   "execution_count": 13,
   "id": "c38c4d0e-50f0-40db-9e75-8d12c5c53d0d",
   "metadata": {},
   "outputs": [],
   "source": [
    "from sklearn.model_selection import train_test_split\n",
    "X_train, X_test, y_train, y_test = train_test_split(df.drop([\"is_sarcastic\"],axis=1), \n",
    "                                                    df['is_sarcastic'], test_size=0.30, \n",
    "                                                    random_state=111)"
   ]
  },
  {
   "cell_type": "code",
   "execution_count": 14,
   "id": "769da3d3-9d2e-406d-8478-b5119308caa1",
   "metadata": {},
   "outputs": [],
   "source": [
    "from sklearn.linear_model import LogisticRegression\n",
    "from sklearn.metrics import classification_report\n",
    "nsimu=200+1\n",
    "logpenalty=[0]*nsimu\n",
    "logmodel=[0]*nsimu\n",
    "logpredictions =[0]*nsimu\n",
    "logclass_report = [0]*nsimu\n",
    "logf1=[0]*nsimu"
   ]
  },
  {
   "cell_type": "code",
   "execution_count": 15,
   "id": "bbb2efb6-87d0-448f-82c9-74be742fc666",
   "metadata": {},
   "outputs": [
    {
     "name": "stdout",
     "output_type": "stream",
     "text": [
      "Starting\n"
     ]
    },
    {
     "name": "stderr",
     "output_type": "stream",
     "text": [
      "/home/mark/general_ws/pjatk/suml/project_repo/env1/lib/python3.10/site-packages/sklearn/metrics/_classification.py:1469: UndefinedMetricWarning: Precision and F-score are ill-defined and being set to 0.0 in labels with no predicted samples. Use `zero_division` parameter to control this behavior.\n",
      "  _warn_prf(average, modifier, msg_start, len(result))\n",
      "/home/mark/general_ws/pjatk/suml/project_repo/env1/lib/python3.10/site-packages/sklearn/metrics/_classification.py:1469: UndefinedMetricWarning: Precision and F-score are ill-defined and being set to 0.0 in labels with no predicted samples. Use `zero_division` parameter to control this behavior.\n",
      "  _warn_prf(average, modifier, msg_start, len(result))\n",
      "/home/mark/general_ws/pjatk/suml/project_repo/env1/lib/python3.10/site-packages/sklearn/metrics/_classification.py:1469: UndefinedMetricWarning: Precision and F-score are ill-defined and being set to 0.0 in labels with no predicted samples. Use `zero_division` parameter to control this behavior.\n",
      "  _warn_prf(average, modifier, msg_start, len(result))\n",
      "/home/mark/general_ws/pjatk/suml/project_repo/env1/lib/python3.10/site-packages/sklearn/metrics/_classification.py:1469: UndefinedMetricWarning: Precision and F-score are ill-defined and being set to 0.0 in labels with no predicted samples. Use `zero_division` parameter to control this behavior.\n",
      "  _warn_prf(average, modifier, msg_start, len(result))\n",
      "/home/mark/general_ws/pjatk/suml/project_repo/env1/lib/python3.10/site-packages/sklearn/metrics/_classification.py:1469: UndefinedMetricWarning: Precision and F-score are ill-defined and being set to 0.0 in labels with no predicted samples. Use `zero_division` parameter to control this behavior.\n",
      "  _warn_prf(average, modifier, msg_start, len(result))\n",
      "/home/mark/general_ws/pjatk/suml/project_repo/env1/lib/python3.10/site-packages/sklearn/metrics/_classification.py:1469: UndefinedMetricWarning: Precision and F-score are ill-defined and being set to 0.0 in labels with no predicted samples. Use `zero_division` parameter to control this behavior.\n",
      "  _warn_prf(average, modifier, msg_start, len(result))\n",
      "/home/mark/general_ws/pjatk/suml/project_repo/env1/lib/python3.10/site-packages/sklearn/metrics/_classification.py:1469: UndefinedMetricWarning: Precision and F-score are ill-defined and being set to 0.0 in labels with no predicted samples. Use `zero_division` parameter to control this behavior.\n",
      "  _warn_prf(average, modifier, msg_start, len(result))\n",
      "/home/mark/general_ws/pjatk/suml/project_repo/env1/lib/python3.10/site-packages/sklearn/metrics/_classification.py:1469: UndefinedMetricWarning: Precision and F-score are ill-defined and being set to 0.0 in labels with no predicted samples. Use `zero_division` parameter to control this behavior.\n",
      "  _warn_prf(average, modifier, msg_start, len(result))\n",
      "/home/mark/general_ws/pjatk/suml/project_repo/env1/lib/python3.10/site-packages/sklearn/metrics/_classification.py:1469: UndefinedMetricWarning: Precision and F-score are ill-defined and being set to 0.0 in labels with no predicted samples. Use `zero_division` parameter to control this behavior.\n",
      "  _warn_prf(average, modifier, msg_start, len(result))\n",
      "/home/mark/general_ws/pjatk/suml/project_repo/env1/lib/python3.10/site-packages/sklearn/metrics/_classification.py:1469: UndefinedMetricWarning: Precision and F-score are ill-defined and being set to 0.0 in labels with no predicted samples. Use `zero_division` parameter to control this behavior.\n",
      "  _warn_prf(average, modifier, msg_start, len(result))\n",
      "/home/mark/general_ws/pjatk/suml/project_repo/env1/lib/python3.10/site-packages/sklearn/metrics/_classification.py:1469: UndefinedMetricWarning: Precision and F-score are ill-defined and being set to 0.0 in labels with no predicted samples. Use `zero_division` parameter to control this behavior.\n",
      "  _warn_prf(average, modifier, msg_start, len(result))\n",
      "/home/mark/general_ws/pjatk/suml/project_repo/env1/lib/python3.10/site-packages/sklearn/metrics/_classification.py:1469: UndefinedMetricWarning: Precision and F-score are ill-defined and being set to 0.0 in labels with no predicted samples. Use `zero_division` parameter to control this behavior.\n",
      "  _warn_prf(average, modifier, msg_start, len(result))\n"
     ]
    },
    {
     "data": {
      "image/png": "[encoded data removed]",
      "text/plain": [
       "<Figure size 640x480 with 1 Axes>"
      ]
     },
     "metadata": {},
     "output_type": "display_data"
    }
   ],
   "source": [
    "print(\"Starting\")\n",
    "for i in range(1,nsimu):\n",
    "    logmodel[i] =(LogisticRegression(C=i/1000,solver=\"liblinear\"))\n",
    "    #logmodel[i] =(LogisticRegression(C=i/nsimu,solver=\"liblinear\"))\n",
    "    logmodel[i].fit(X_train,y_train)\n",
    "    logpredictions[i] = logmodel[i].predict(X_test)\n",
    "    logclass_report[i] = classification_report(y_test,logpredictions[i])\n",
    "    l=logclass_report[i].split()\n",
    "    logf1[i] = l[len(l)-2]\n",
    "    logpenalty[i]=1000/i\n",
    "\n",
    "plt.scatter(logpenalty[1:len(logpenalty)-2],logf1[1:len(logf1)-2])\n",
    "plt.title(\"Logistic Regression: F1-score vs. regularization parameter\",fontsize=20)\n",
    "plt.xlabel(\"Penalty parameter\",fontsize=17)\n",
    "plt.ylabel(\"F1-score on test data\",fontsize=17)\n",
    "plt.show()"
   ]
  },
  {
   "cell_type": "code",
   "execution_count": 16,
   "id": "1e6c040f-2c4d-435e-b413-472a2b7052eb",
   "metadata": {},
   "outputs": [],
   "source": [
    "from sklearn.tree import DecisionTreeClassifier\n",
    "from sklearn.metrics import classification_report\n",
    "nsimu=200+1\n",
    "maxdepth=[0]*nsimu\n",
    "dectree=[0]*nsimu\n",
    "decpredictions =[0]*nsimu\n",
    "decclass_report = [0]*nsimu\n",
    "decf1=[0]*nsimu"
   ]
  },
  {
   "cell_type": "code",
   "execution_count": 17,
   "id": "0b5f4132-cbbd-47ef-981d-25541b18eb81",
   "metadata": {},
   "outputs": [
    {
     "name": "stdout",
     "output_type": "stream",
     "text": [
      "Starting\n"
     ]
    },
    {
     "name": "stderr",
     "output_type": "stream",
     "text": [
      "/home/mark/general_ws/pjatk/suml/project_repo/env1/lib/python3.10/site-packages/sklearn/metrics/_classification.py:1469: UndefinedMetricWarning: Precision and F-score are ill-defined and being set to 0.0 in labels with no predicted samples. Use `zero_division` parameter to control this behavior.\n",
      "  _warn_prf(average, modifier, msg_start, len(result))\n",
      "/home/mark/general_ws/pjatk/suml/project_repo/env1/lib/python3.10/site-packages/sklearn/metrics/_classification.py:1469: UndefinedMetricWarning: Precision and F-score are ill-defined and being set to 0.0 in labels with no predicted samples. Use `zero_division` parameter to control this behavior.\n",
      "  _warn_prf(average, modifier, msg_start, len(result))\n",
      "/home/mark/general_ws/pjatk/suml/project_repo/env1/lib/python3.10/site-packages/sklearn/metrics/_classification.py:1469: UndefinedMetricWarning: Precision and F-score are ill-defined and being set to 0.0 in labels with no predicted samples. Use `zero_division` parameter to control this behavior.\n",
      "  _warn_prf(average, modifier, msg_start, len(result))\n"
     ]
    },
    {
     "data": {
      "image/png": "[encoded data removed]",
      "text/plain": [
       "<Figure size 640x480 with 1 Axes>"
      ]
     },
     "metadata": {},
     "output_type": "display_data"
    }
   ],
   "source": [
    "print(\"Starting\")\n",
    "for i in range(1,nsimu):\n",
    "    dectree[i] =DecisionTreeClassifier(max_depth=pow(i,2))\n",
    "    dectree[i].fit(X_train,y_train)\n",
    "    decpredictions[i] = dectree[i].predict(X_test)\n",
    "    decclass_report[i] = classification_report(y_test,decpredictions[i])\n",
    "    l=decclass_report[i].split()\n",
    "    decf1[i] = l[len(l)-2]\n",
    "    maxdepth[i]=pow(i,2)\n",
    "\n",
    "plt.scatter(maxdepth[1:len(maxdepth)-2],decf1[1:len(decf1)-2])\n",
    "plt.title(\"Decision Tree: F1-score vs. regularization parameter\",fontsize=20)\n",
    "plt.xlabel(\"Max-depth parameter\",fontsize=17)\n",
    "plt.ylabel(\"F1-score on test data\",fontsize=17)\n",
    "plt.show()"
   ]
  },
  {
   "cell_type": "code",
   "execution_count": null,
   "id": "bc269783-448c-4470-9805-a1ba13e0cd43",
   "metadata": {},
   "outputs": [],
   "source": []
  }
 ],
 "metadata": {
  "kernelspec": {
   "display_name": "Python 3 (ipykernel)",
   "language": "python",
   "name": "python3"
  },
  "language_info": {
   "codemirror_mode": {
    "name": "ipython",
    "version": 3
   },
   "file_extension": ".py",
   "mimetype": "text/x-python",
   "name": "python",
   "nbconvert_exporter": "python",
   "pygments_lexer": "ipython3",
   "version": "3.10.12"
  }
 },
 "nbformat": 4,
 "nbformat_minor": 5
}
